{
  "nbformat": 4,
  "nbformat_minor": 0,
  "metadata": {
    "colab": {
      "provenance": [],
      "include_colab_link": true
    },
    "kernelspec": {
      "name": "python3",
      "display_name": "Python 3"
    },
    "language_info": {
      "name": "python"
    }
  },
  "cells": [
    {
      "cell_type": "markdown",
      "metadata": {
        "id": "view-in-github",
        "colab_type": "text"
      },
      "source": [
        "<a href=\"https://colab.research.google.com/github/user1inna/data-and-python/blob/main/Worksheets/05_Lists_and_loops.ipynb\" target=\"_parent\"><img src=\"https://colab.research.google.com/assets/colab-badge.svg\" alt=\"Open In Colab\"/></a>"
      ]
    },
    {
      "cell_type": "markdown",
      "metadata": {
        "id": "Z-M-RCWATK71"
      },
      "source": [
        "# Lists and loops\n",
        "\n",
        "Data tends to be stored in groups so that all the data items can be processed together. This might be because all the data refers to one subject, like a person (e.g. name, age, gender, etc) OR it might be because we have a set of data (e.g. all the sea level measurements taken over a number of years)\n",
        "\n",
        "Python has a range of data structures available including:\n",
        "*   lists  \n",
        "*   tuples  \n",
        "*   dictionaries  \n",
        "*   sets\n",
        "\n",
        "This worksheet looks at lists.\n",
        "\n",
        "---\n",
        "###[Lists - video](https://vimeo.com/991481470/9dfc58427a?share=copy)\n",
        "\n",
        "---\n",
        "## Lists\n",
        "A list is a set of related, individual data objects, that are indexed and can be processed as a whole, as subsets or as individual items.  A string is an example of a list (a list of characters). Lists are stored, essentially, as contiguous items in memory so that access can be as quickly as possible.  However, they are mutable (they can be changed after they are created and stored) and so those mechanisms need to include extra functionality to deal with changing list sizes.\n",
        "\n",
        "A list is created with a name and and equals sign, and all the elements in the list are within square brackets, separated by a comma.  If the element is a string, it will also be in speech marks:\n",
        "\n",
        "```\n",
        "categories_list = [\"well being\", \"local events\", \"community events\", \"families and parents\", \"jobs and volunteering\" ]\n",
        "\n",
        "sea_levels = [0.952755905, 1.173228345, 0.464566929, 0.66535433, 1.464566928, 1.393700786, 1.255905511, 1.03543307, 1.118110235, 1.181102361]\n",
        "```\n",
        "\n",
        "---\n",
        "## List indexing\n",
        "To access individual elements in a list, we use their position.  Positioning is numbered from 0 at the beginning of the list, up to 1-length of list.The first element in the list is at position 0, the second at position 1 and so on.\n",
        "\n",
        "To make it easy to jump to the end of a list, a negative numbering system is used.  The last element is at position -1 (regardless of the length of the list), the second to last is a position -2, etc. So:  \n",
        "\n",
        "`categories_list[0]` - is the first element in the list  \n",
        "`categories_list[-1]` - is the last element in the list   \n",
        "\n",
        "Lists can be sliced using the position of the first element to include and the position after the last element to include.  So:\n",
        "\n",
        "`categories_list[2:4]` - will get the third and fourth element in the list\n",
        "`categories_list[-4::]` - will get the last 4 elements in the list\n",
        "`categories_list[:5]` - will get the first 5 elements in the list  \n",
        "\n",
        "To change an element in a list, assign a new value to the element at a given position:  \n",
        "\n",
        "`categories_list[1] = \"well-being\"` - changes the value of the second element in the list from its original value to its new value  \n",
        "\n",
        "---\n",
        "### Interrogating and changing lists  \n",
        "\n",
        "Python provides a set of **functions** that can produce information about a list.  For example, its length, its largest number (if the list is numeric), smallest number, total of all numbers, etc.  A function is given the name of the list in its brackets so that it knows which list to interrogate.\n",
        "\n",
        "example:  **length of list** - counts the elements in a list and returns the total\n",
        "\n",
        "`len(categories_list)`\n",
        "\n",
        "Additionally, the list itself can have functions attached to it.  These are called **methods**\n",
        "\n",
        "A method is a function that is applied to an object such as a list, to change itself. It is, essentially, something that a list can do to itself, rather than something that is done to it. So:  \n",
        "\n",
        "`categories_list.append(\"learning\")` will add \"learning\" to the end of the list of categories.\n",
        "\n",
        "A method will change the list directly, so the instruction can stand on its own and doesn't need to store its result back in the original list.  \n",
        "\n",
        "Or it might generate new information about the specific list, such as the frequency of particular items:  \n",
        "\n",
        "`categories_list.count(\"well being\")`  will return the number of times the item \"well being\" appears in the list\n",
        "\n",
        "`categories_list.index(\"community events\")` will return the position of \"community events\" in the list\n",
        "\n",
        "`sea_levels.index(1.255905511)` will return the position of the number 1.255905511 in the list\n",
        "\n",
        "`sea_levels.remove(1.255905511)` will remove this item from the list\n",
        "\n",
        "There is a full list of the methods (things a list can do to change itself) here:  https://www.w3schools.com/python/python_ref_list.asp\n",
        "\n",
        "---\n",
        "### [List functions and methods video](https://vimeo.com/991514290/f36a924759?share=copy)\n"
      ]
    },
    {
      "cell_type": "markdown",
      "metadata": {
        "id": "Ft0dXl7fUuaK"
      },
      "source": [
        "---\n",
        "### Exercise 1 - manage list of categories\n",
        "\n",
        "Write a function, **print_categories()** which will:\n",
        "*  create the list **categories_list** and assign the following list [\"well being\", \"local events\", \"community events\", \"families and parents\", \"jobs and volunteering\" ]\n",
        "*  print the length of the list `categories`\n",
        "*  print the list\n",
        "\n",
        "## Test\n",
        "The expected output is:\n",
        "\n",
        "```\n",
        "5\n",
        "[\"well being\",\"local events\",\"community events\",\"families and parents\", \"jobs and volunteering\"]\n",
        "```"
      ]
    },
    {
      "cell_type": "code",
      "source": [
        "def print_categories():\n",
        "  categories_list =  [\"well being\", \"local events\", \"community events\", \"families and parents\", \"jobs and volunteering\" ]\n",
        "  print(len(categories_list))\n",
        "  print (categories_list)\n",
        "\n",
        "print_categories()"
      ],
      "metadata": {
        "id": "QQSxE92IVlHg",
        "outputId": "40f11466-6200-43ed-c031-2b4fe29581f3",
        "colab": {
          "base_uri": "https://localhost:8080/"
        }
      },
      "execution_count": 1,
      "outputs": [
        {
          "output_type": "stream",
          "name": "stdout",
          "text": [
            "5\n",
            "['well being', 'local events', 'community events', 'families and parents', 'jobs and volunteering']\n"
          ]
        }
      ]
    },
    {
      "cell_type": "markdown",
      "source": [
        "---\n",
        "### Exercise 2 - change item in list\n",
        "\n",
        "Write a function, **change_categories()** which will:\n",
        "*  create the same list (**categories list**)\n",
        "*  amend the **first item** in the list so it reads **well-being**\n",
        "*  print the list\n",
        "\n",
        "*Hint: each item in the list is identified by its position, starting from 0, so the first item in the list is at categories_list[0]*\n",
        "\n",
        "**Expected Output**\n",
        "\n",
        "```\n",
        "['well-being','local events','community events','families and parents','jobs and volunteering']\n",
        "```"
      ],
      "metadata": {
        "id": "9YkKNJNrfYiy"
      }
    },
    {
      "cell_type": "code",
      "source": [
        "def change_categories():\n",
        "  categories_list = [\"well being\", \"local events\", \"community events\", \"families and parents\", \"jobs and volunteering\" ]\n",
        "  categories_list[0] = \"well-being\"\n",
        "  print(categories_list)\n",
        "\n",
        "change_categories()\n"
      ],
      "metadata": {
        "id": "ryPTakrmgeDj",
        "outputId": "9cc6633c-0670-40fa-83e4-66f8ce761d1d",
        "colab": {
          "base_uri": "https://localhost:8080/"
        }
      },
      "execution_count": 2,
      "outputs": [
        {
          "output_type": "stream",
          "name": "stdout",
          "text": [
            "['well-being', 'local events', 'community events', 'families and parents', 'jobs and volunteering']\n"
          ]
        }
      ]
    },
    {
      "cell_type": "markdown",
      "source": [
        "---\n",
        "### Exercise 3 - add to list of categories\n",
        "\n",
        "Write a function, **add_category()** which will:  \n",
        "*  create the same `categories_list` again\n",
        "*  create a new variable called new_category and assign the value \"learning\"\n",
        "*  append the new category  (called **new_category**) to the list.   \n",
        "_Hint: use `.append(new_category)`_\n",
        "*  print the list of categories\n",
        "\n",
        "## Test:\n",
        "\n",
        "The expected output is that the original list is printed with the new category added to the end.\n",
        "\n",
        "```\n",
        "[\"well being\",\"local events\",\"community events\",\"families and parents\", \"jobs and volunteering\", \"learning\"]\n",
        "```"
      ],
      "metadata": {
        "id": "KpOFEmxJTnXk"
      }
    },
    {
      "cell_type": "code",
      "metadata": {
        "id": "P2HnCG9pb1BS"
      },
      "source": [],
      "execution_count": null,
      "outputs": []
    },
    {
      "cell_type": "markdown",
      "metadata": {
        "id": "yNWg08k6bXv0"
      },
      "source": [
        "---\n",
        "### Exercise 4 - create list of locations\n",
        "\n",
        "Write a function **show_locations()** which will:\n",
        "*  create a new list **notice_locations** and add at least 6 locations to the list e.g. Dartford, Medway, Maidstone, Edinburgh, Glasgow, ...\n",
        "*  print the length of the list\n",
        "*  print the first and last items\n",
        "*  print the first three items\n",
        "*  print the last three items\n",
        "\n",
        "\n",
        "## Test\n",
        "An example of the list might be:\n",
        "\n",
        "Edinburgh  \n",
        "Glasgow  \n",
        "Dartford  \n",
        "Medway  \n",
        "Maidstone  \n",
        "Motherwell  "
      ]
    },
    {
      "cell_type": "code",
      "source": [],
      "metadata": {
        "id": "KGJJyOB3VyEK"
      },
      "execution_count": null,
      "outputs": []
    },
    {
      "cell_type": "markdown",
      "source": [
        "---\n",
        "### Exercise 5 - create list of user preferences\n",
        "\n",
        "Write a function **user_locations()** which will:\n",
        "*  create a new list **user_locations** and assign the list [\"Dartford\",\"Medway\",\"Maidstone\",\"Dover\",\"Medway\",\"Tunbridge Wells\",\"Medway\",\"Dover\"]\n",
        "*  create a variable called **medway_count** and assign the frequency of \"Medway\" in the `user_locations` list\n",
        "*  create a variable called **dover_count** and assign the frequency of \"Dover\" in the `user_locations` list\n",
        "*  create a variable called **dartford_count** and assign the frequency of \"Dartford\" in the `user_locations` list\n",
        "*  create a variable called **top_locations** and assign a list of the three counts stored in the variable\n",
        "*  print the `top_locations` list\n",
        "\n",
        "## Test\n",
        "\n",
        "The expected output is:\n",
        "\n",
        "```\n",
        "[3,2,1]\n",
        "```\n",
        "\n"
      ],
      "metadata": {
        "id": "ddvD-szJXcPo"
      }
    },
    {
      "cell_type": "code",
      "source": [],
      "metadata": {
        "id": "JA68Wc96Xe9K"
      },
      "execution_count": null,
      "outputs": []
    },
    {
      "cell_type": "markdown",
      "source": [
        "---\n",
        "### Exercise 6 - get the position of a named element in a list\n",
        "\n",
        "Write a function **get_position()** which will:\n",
        "*  create a new list **categories** with the following items: `['well being', 'local events', 'community events', 'families and parents', 'jobs and volunteering']`\n",
        "*  create a new variable called position and assign it the position of the element `\"community events\"` in the list  \n",
        "_Hint:  you can use `.index(category)`_\n",
        "*  print the `position`\n",
        "\n",
        "\n",
        "## Test:\n",
        "Following the instructions above the expected output is:  \n",
        "2  \n",
        "*(\"community events\" is third in the list and has the position 2)*"
      ],
      "metadata": {
        "id": "uXSu5zXVbslG"
      }
    },
    {
      "cell_type": "code",
      "source": [],
      "metadata": {
        "id": "-6nNePNWbuad"
      },
      "execution_count": null,
      "outputs": []
    },
    {
      "cell_type": "markdown",
      "source": [
        "---\n",
        "# Iterating through a list with a `for` loop\n",
        "\n",
        "To be able to work through a list of any size in the most efficient way, needs a mechanism for reading list items one after the other.  \n",
        "\n",
        "A `for` loop is a useful tool for doing this.  \n",
        "\n",
        "To iterate through a list, declare a `for` loop to use a variable to store each item as it is being processed. A `for` loop can be interpreted as saying \"for each category in categories_list\" but it missed the word each to keep it shorter.\n",
        "\n",
        "**Print each item in the list on a new line**\n",
        "```\n",
        "for category in categories_list:\n",
        "  print(category)\n",
        "```\n",
        "**Add 0.5 on to each sea_level (maybe as a universal adjustment), then print it**\n",
        "```\n",
        "for level in sea_levels:\n",
        "   adjusted_level = level + 0.5\n",
        "   print(adjusted_level)\n",
        "```  \n",
        "\n",
        "*Notice that the code below the `for` loop is indented.  All code that is indented to the same level is part of the loop and will run everytime round the loop.*"
      ],
      "metadata": {
        "id": "UGUOB3jiZ7Ge"
      }
    },
    {
      "cell_type": "markdown",
      "source": [
        "---\n",
        "### Exercise 7 - print the sea_levels list using a loop\n",
        "\n",
        "Write a function **show_sea_levels()** which will:\n",
        "*  create a new list **sea_levels** with the following items: `[0.952755905, 1.173228345, 0.464566929, 0.66535433, 1.464566928, 1.393700786, 1.255905511, 1.03543307, 1.118110235, 1.181102361]`\n",
        "*  use a for loop to print each number on a new line\n",
        "\n",
        "\n",
        "## Test:\n",
        "Following the instructions above the expected output is:  \n",
        "```\n",
        "0.952755905\n",
        "1.173228345\n",
        "0.464566929\n",
        "0.66535433\n",
        "1.464566928\n",
        "1.393700786\n",
        "1.255905511\n",
        "1.03543307\n",
        "1.118110235\n",
        "1.181102361\n",
        "```"
      ],
      "metadata": {
        "id": "rxH09eBofm_j"
      }
    },
    {
      "cell_type": "code",
      "source": [],
      "metadata": {
        "id": "uJ4N9d9eSTbg"
      },
      "execution_count": null,
      "outputs": []
    },
    {
      "cell_type": "markdown",
      "source": [
        "---\n",
        "### Exercise 8 - remove an item from a list\n",
        "\n",
        "Write a function **remove_category()** which will:\n",
        "*  create a new list **categories_list** with the following items: `[\"well being\", \"local events\", \"community events\", \"families and parents\", \"jobs and volunteering\", \"learning\"]`\n",
        "*  remove the 'community events' element from the list  \n",
        "   *Hint: removing an item is like appending an item, e.g. `categories_list.remove(\"local events\")`* )\n",
        "*  print the list using a loop\n",
        "\n",
        "\n",
        "## Test:\n",
        "Following the instructions above the expected output is:  \n",
        "```\n",
        "well being\n",
        "local events\n",
        "families and parents\n",
        "jobs and volunteering\n",
        "learning\n",
        "```"
      ],
      "metadata": {
        "id": "TY41GMp1ds2P"
      }
    },
    {
      "cell_type": "code",
      "source": [],
      "metadata": {
        "id": "e5cgRvmyfGiE"
      },
      "execution_count": null,
      "outputs": []
    },
    {
      "cell_type": "markdown",
      "source": [
        "---\n",
        "### Exercise 9 - print a list as a set of rounded numbers\n",
        "\n",
        "Write a function **show_sea_levels_2dp()** which will:\n",
        "*  create a new list **sea_levels** with the following items: `[0.952755905, 1.173228345, 0.464566929, 0.66535433, 1.464566928, 1.393700786, 1.255905511, 1.03543307, 1.118110235, 1.181102361]`\n",
        "*  use a for loop to round each number to 2 decimal places, then print it\n",
        "\n",
        "## Test:\n",
        "Following the instructions above the expected output is:  \n",
        "```\n",
        "0.95\n",
        "1.17\n",
        "0.46\n",
        "0.67\n",
        "1.46\n",
        "1.39\n",
        "1.26\n",
        "1.04\n",
        "1.12\n",
        "1.18\n",
        "```\n"
      ],
      "metadata": {
        "id": "hfyc8T6vgwCY"
      }
    },
    {
      "cell_type": "code",
      "source": [],
      "metadata": {
        "id": "PKiJmc22hQ8P"
      },
      "execution_count": null,
      "outputs": []
    },
    {
      "cell_type": "markdown",
      "source": [
        "---\n",
        "# Some other useful list functions\n",
        "\n",
        "There are a few useful statistical functions you can use with lists.  \n",
        "\n",
        "`len(list)` returns the number of items in the list  \n",
        "`sum(list)` returns the total of the items in a list as long as they are all numeric  \n",
        "`max(list)` returns the largest number in a list as long as they are all numeric  \n",
        "`min(list)` returns the smallest number in a list as long as they are all numeric  "
      ],
      "metadata": {
        "id": "vAkgqSKgeDdl"
      }
    },
    {
      "cell_type": "markdown",
      "source": [
        "--\n",
        "### Exercise 10 - interrogate a list of integers\n",
        "\n",
        "Write a function called **list_nums()** which will:  \n",
        "*  create a variable called **num_list** and assign a list of whole numbers (you can choose how many, and which numbers to include in the list)\n",
        "*  create a variable to hold the **length** of `num_list`\n",
        "*  create a variable to hold the **sum** of the items in `num_list`  \n",
        "*  print the **largest** number in `num_list`  \n",
        "*  print the **smallest** number in `num_list`  \n",
        "*  calculate the **average** of the numbers in `num_list` (you will already have the information you need to do this) and print it."
      ],
      "metadata": {
        "id": "HZd3r7DfcmiU"
      }
    },
    {
      "cell_type": "code",
      "source": [],
      "metadata": {
        "id": "FUWyOH-VdLSx"
      },
      "execution_count": null,
      "outputs": []
    },
    {
      "cell_type": "markdown",
      "source": [
        "---\n",
        "# Takeaways\n",
        "\n",
        "*  lists are data objects containing a set of data items, usually of the same type and stores them together\n",
        "*  we can access any item in a list if we know its position (index) using list[index]\n",
        "*  we can access parts of a list by using a start and end index [start:end]\n",
        "*  there are functions that will get information about lists (len, max, min, sum, etc)\n",
        "*  lists have built-in functions called methods that often allow them to make changes to themselves (e.g. .append, .remove, .sort, .index)\n",
        "*  lists are easy to process with `for` loops, which can work through the list from start to end, operating on each item in turn.\n",
        "*  to create a `for` loop, use `for item in listname:` and indent all the instructions that will be repeated below this line."
      ],
      "metadata": {
        "id": "cMU3y_iFz3A4"
      }
    },
    {
      "cell_type": "markdown",
      "source": [
        "# Your thoughts on what you have learnt  \n",
        "\n",
        "Please add some comments in the box below to reflect on what you have learnt through completing this worksheet, and any problems you encountered while doing so."
      ],
      "metadata": {
        "id": "-YmBfGdyhrLI"
      }
    },
    {
      "cell_type": "markdown",
      "source": [],
      "metadata": {
        "id": "fvaBWUBzh28v"
      }
    }
  ]
}
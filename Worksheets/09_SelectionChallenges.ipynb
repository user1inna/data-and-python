{
  "nbformat": 4,
  "nbformat_minor": 0,
  "metadata": {
    "colab": {
      "provenance": [],
      "include_colab_link": true
    },
    "kernelspec": {
      "name": "python3",
      "display_name": "Python 3"
    }
  },
  "cells": [
    {
      "cell_type": "markdown",
      "metadata": {
        "id": "view-in-github",
        "colab_type": "text"
      },
      "source": [
        "<a href=\"https://colab.research.google.com/github/user1inna/data-and-python/blob/main/Worksheets/09_SelectionChallenges.ipynb\" target=\"_parent\"><img src=\"https://colab.research.google.com/assets/colab-badge.svg\" alt=\"Open In Colab\"/></a>"
      ]
    },
    {
      "cell_type": "markdown",
      "metadata": {
        "id": "-QxAKPD8DZfj"
      },
      "source": [
        "# Three selection challenges\n",
        "\n",
        "---\n"
      ]
    },
    {
      "cell_type": "markdown",
      "metadata": {
        "id": "2KYUALILDcM9"
      },
      "source": [
        "### Challenge 1 - password format  \n",
        "\n",
        "Write a function called **check_password_valid()** which will check the validity of a **password** input by a user.\n",
        "\n",
        "Rules for a valid password are:  \n",
        "\n",
        "*  At least 1 letter between [a-z] and 1 letter between [A-Z].\n",
        "*  At least 1 number between [0-9].\n",
        "*  At least 1 character from [$#@].\n",
        "*  Minimum length 6 characters.\n",
        "*  Maximum length 16 characters.  \n",
        "\n",
        "Let the user know if the `password` they have typed is valid and, if not, where was the first error.\n",
        "\n",
        "*Hint:  to test if a set of characters is present in a password String, you can use re.search('[character set]', `password`)*  \n",
        "\n",
        "Example:   \n",
        "*if re.search('[a-z]',`password`):*    \n",
        "if there is at least 1 character a-z in the password, re.search will not be None.\n",
        "\n",
        "**re** is a pre-written Python function for pattern searching in Strings.  It has been imported for you in the code cell below.  "
      ]
    },
    {
      "cell_type": "code",
      "metadata": {
        "id": "8wBK9IA4BO2e",
        "outputId": "4aa5a06e-96ed-45cf-81db-e73878f5461a",
        "colab": {
          "base_uri": "https://localhost:8080/"
        }
      },
      "source": [
        "import re\n",
        "\n",
        "# add your check_PasswordValid() function and call below here\n",
        "\n",
        "def check_password_valid():\n",
        "  password = input(\"please enter your password\")\n",
        "  if re.search('[a-z]', password) and re.search('[A-Z]', password) and re.search('[0-9]', password) and re.search('[$#@]', password) and len(password) >=6 and len(password) <=16:\n",
        "    print(\"your password is valid\")\n",
        "  else:\n",
        "    print(\"your password is invalid\")\n",
        "\n",
        "check_password_valid()\n"
      ],
      "execution_count": 12,
      "outputs": [
        {
          "output_type": "stream",
          "name": "stdout",
          "text": [
            "please enter your passwordinna\n",
            "your password is invalid\n"
          ]
        }
      ]
    },
    {
      "cell_type": "markdown",
      "metadata": {
        "id": "f0R4GYTEFQS-"
      },
      "source": [
        "---\n",
        "### Challenge 2 - triangle shape  \n",
        "\n",
        "Write a function called **evaluate_triangle_shape()** which will check if a triangle is equilateral, isosceles or scalene, based on the three side lengths entered by a user (**x**, **y** and **z**.\n",
        "\n",
        "An equilateral triangle is a triangle in which all three sides are equal.\n",
        "A scalene triangle is a triangle that has three unequal sides.\n",
        "An isosceles triangle is a triangle with (at least) two equal sides.\n",
        "\n",
        "For example:  \n",
        "A triange with side lengths                                 \n",
        "x: 6                                                                    \n",
        "y: 8                                                                    \n",
        "z: 12                                                                   \n",
        "is a *Scalene triangle*\n",
        "\n",
        "A triangle with side lengths\n",
        "x:5  \n",
        "y:3   \n",
        "z:5  \n",
        "is an *Isosceles triangle*"
      ]
    },
    {
      "cell_type": "code",
      "metadata": {
        "id": "oBgl4ro1DVL0"
      },
      "source": [],
      "execution_count": null,
      "outputs": []
    },
    {
      "cell_type": "markdown",
      "metadata": {
        "id": "hr2EotkqG33l"
      },
      "source": [
        "---\n",
        "### Challenge 3 - which season\n",
        "\n",
        "Write a function called **determine_season()** which will ask the user to enter two integers representing a **month** and **day** and prints the season for that month and day.\n",
        "\n",
        "Note:  for this exercise the season dates are:\n",
        "*  Winter December 21 to March 20    \n",
        "*  Spring March 21 to June 20  \n",
        "*  Summer June 21 to September 20  \n",
        "*  Autumn September 21 to December 20\n",
        "\n",
        "Test input:  \n",
        "Input the month (e.g. January, February etc.): 7                     \n",
        "Input the day: 31                                                       \n",
        "\n",
        "Expected output:  \n",
        "Season is summer\n",
        "\n",
        "*Note: this will require multiple and or or operators and you should use brackets to help Python know which operations to do first*  \n",
        "\n",
        "*For an extra challenge you can check that the day is valid for the month*"
      ]
    },
    {
      "cell_type": "code",
      "metadata": {
        "id": "cvbfz8nzG4IL"
      },
      "source": [],
      "execution_count": null,
      "outputs": []
    },
    {
      "cell_type": "markdown",
      "source": [
        "---\n",
        "# Your thoughts on what you have learnt from these challenges  \n",
        "\n",
        "Please add some comments in the box below to reflect on what you have learnt through completing this worksheet, and any problems you encountered while doing so."
      ],
      "metadata": {
        "id": "xr6B589Youcr"
      }
    },
    {
      "cell_type": "markdown",
      "source": [],
      "metadata": {
        "id": "qIfjax_VovRz"
      }
    }
  ]
}
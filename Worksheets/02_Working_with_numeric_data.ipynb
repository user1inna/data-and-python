{
  "nbformat": 4,
  "nbformat_minor": 0,
  "metadata": {
    "colab": {
      "provenance": [],
      "include_colab_link": true
    },
    "kernelspec": {
      "name": "python3",
      "display_name": "Python 3"
    }
  },
  "cells": [
    {
      "cell_type": "markdown",
      "metadata": {
        "id": "view-in-github",
        "colab_type": "text"
      },
      "source": [
        "<a href=\"https://colab.research.google.com/github/user1inna/data-and-python/blob/main/Worksheets/02_Working_with_numeric_data.ipynb\" target=\"_parent\"><img src=\"https://colab.research.google.com/assets/colab-badge.svg\" alt=\"Open In Colab\"/></a>"
      ]
    },
    {
      "cell_type": "markdown",
      "metadata": {
        "id": "3O7iro_BV0mL"
      },
      "source": [
        "# Operators - arithmetic\n",
        "\n",
        "---"
      ]
    },
    {
      "cell_type": "markdown",
      "metadata": {
        "id": "Nk7bg_hfLzu7"
      },
      "source": [
        "In Python, we can use the following arithmetic operators.  Listen to an explanation of these [here](https://drive.google.com/file/d/1UpUGO8ShCszAv6qH9ApPxKXO_o6Z5Us_/view?usp=sharing)   \n",
        "\n",
        "![Python operators](https://drive.google.com/uc?id=1EARs0OefvMwAULyNGGs01xYLW3lIAO9B)\n",
        "\n",
        "#### The `round()` function is useful when working with numbers\n",
        "\n",
        "**round()**\n",
        "\n",
        "This will round any decimal number it is given to a whole number (e.g. round(5.7) gives 6, round(5.2) gives 5).  This is more accurate than just taking the whole number part when a whole number is the requested output.\n",
        "\n",
        "To round to a certain number of decimal places, add the number of places after the number to round.  \n",
        "\n",
        "e.g. round(5.348, 2) gives 5.35, round(16.42,1) gives 16.4\n",
        "\n",
        "\n",
        "\n",
        "\n",
        "\n",
        "\n",
        "\n",
        "\n",
        "\n"
      ]
    },
    {
      "cell_type": "markdown",
      "metadata": {
        "id": "ohKiZuy-OnDN"
      },
      "source": [
        "---\n",
        "### Exercise 1 - multiplication of integers\n",
        "\n",
        "**Scenario**\n",
        "You are working with a dataset about dogs. It contains a set of data on a dog's age.  You have been asked to create a new set of data to record the dog's age in human years (7 times longer)\n",
        "\n",
        "**Task**\n",
        "\n",
        "Try this out with just three dog ages.\n",
        "\n",
        "Write a function called **calculate_dog_human_ages()** which will:  \n",
        "\n",
        "*  create three integer variables called **dog_age1**, **dog_age2**, **dog_age3**\n",
        "*  calculate each dog's age in human years by multiplying it by 7, assigning it to a new variable called **dog_human_age1**, etc  \n",
        "*  print the three ages in human years    \n",
        "\n",
        "**Test Input**:  \n",
        "dog_age1 = 6  \n",
        "dog_age2 = 2  \n",
        "dog_age3 = 14    \n",
        "\n",
        "**Expected output**:  \n",
        "42  \n",
        "14  \n",
        "98  \n"
      ]
    },
    {
      "cell_type": "code",
      "metadata": {
        "id": "kWpM2m4nO7Ir",
        "colab": {
          "base_uri": "https://localhost:8080/"
        },
        "outputId": "0fde0ea4-8dad-4dec-8862-01c0ad034666"
      },
      "source": [
        "# write your function here, starting with the definition (think about the name - it should say what the function does)\n",
        "def calculate_dog_human_ages():\n",
        "  dog_age1 = 6\n",
        "  dog_age2 = 2\n",
        "  dog_age3 = 14\n",
        "\n",
        "  dog_human_age1 = dog_age1*7\n",
        "  print(dog_human_age1)\n",
        "  dog_human_age2 = dog_age2*7\n",
        "  print(dog_human_age2)\n",
        "  dog_human_age3 = dog_age3*7\n",
        "  print(dog_human_age3)\n",
        "\n",
        "calculate_dog_human_ages()\n"
      ],
      "execution_count": null,
      "outputs": [
        {
          "output_type": "stream",
          "name": "stdout",
          "text": [
            "42\n",
            "14\n",
            "98\n"
          ]
        }
      ]
    },
    {
      "cell_type": "markdown",
      "metadata": {
        "id": "fvxtRRcfOnGr"
      },
      "source": [
        "---\n",
        "### Exercise 2 - calculating an average (BIDMAS)\n",
        "\n",
        "**Scenario**  \n",
        "A dataset holds a count of scoops of different flavours of ice cream bought from a seafront store during one summer. The owner needs to order for next year and can only order the same amount of each (to get a good discount).  Any flavour that is a way below average will be swapped to increase a flavour that is way above average.  \n",
        "\n",
        "Each number in the dataset represent the number of a particular flavour sold. The data is on paper and so will have to be typed in.  \n",
        "\n",
        "**Your task**  \n",
        "You have been asked to calculate the average number of scoops of each flavour.\n",
        "\n",
        "Write a function called **calculate_average()** which will:  \n",
        "\n",
        "*  ask the user for 5 separate numbers, **num1**, **num2**, etc  \n",
        "*  calculate the **average** of the five numbers\n",
        "*  print the `average`, rounded to the nearest whole number, use something like:  \n",
        " `rounded_average = round(average)`\n",
        "     \n",
        "*Hint: remember the BIDMAS order of operators and use brackets to change the order if necessary.*  \n",
        "*(B) - brackets, (I) - indices, (D) - division, (M) - multiplication, (A) - addition, (S) - subtraction*\n",
        "\n",
        "**Test Input**:  \n",
        "311  \n",
        "514  \n",
        "985  \n",
        "1678  \n",
        "50\n",
        "\n",
        "**Expected output**:  \n",
        "708"
      ]
    },
    {
      "cell_type": "code",
      "metadata": {
        "id": "jYtLq8olPRZM",
        "colab": {
          "base_uri": "https://localhost:8080/"
        },
        "outputId": "be37c522-c861-4c3a-f7da-3976a13150ae"
      },
      "source": [
        "def calculate_average():\n",
        "\n",
        "  num1 = 311\n",
        "  num2 = 514\n",
        "  num3 = 985\n",
        "  num4 = 1678\n",
        "  num5 = 50\n",
        "  average = (num1 + num2 + num3 + num4 + num5)/5\n",
        "  rounded_average = round(average)\n",
        "  print(rounded_average)\n",
        "\n",
        "calculate_average()\n"
      ],
      "execution_count": null,
      "outputs": [
        {
          "output_type": "stream",
          "name": "stdout",
          "text": [
            "708\n"
          ]
        }
      ]
    },
    {
      "cell_type": "markdown",
      "metadata": {
        "id": "r9w0fiW-PR2D"
      },
      "source": [
        "---\n",
        "### Exercise 3 - converting values\n",
        "\n",
        "**Scenario**  \n",
        "A community health nurse has collected anonymous data about the heights of people who have attended a clinic during the day.  The heights are all recorded in metres.  To get the data ready for storage, the heights must be in centimetres, the last number in the data will be the average height (in cm).  The heights are all written on paper, there are 8 of them.\n",
        "\n",
        "**Your task**\n",
        "\n",
        "Write a function called **convert__to_cm()** which will:  \n",
        "\n",
        "*  ask the user to input the 8 heights (use **height1**, **height2**, etc)  \n",
        "*  convert each `height` to **height_cm** (multiply by 100)  \n",
        "*  for each print `height` and `height_centimetres`\n",
        "*  THEN, calculate the average height and print it rounded to a whole number of centimetres\n",
        "\n",
        "*Remember, height in metres is usually a decimal, so data type matters*  \n",
        "\n",
        "**Test Input**:  \n",
        "1.67  \n",
        "1.4  \n",
        "1.62  \n",
        "1.53  \n",
        "1.7  \n",
        "1.35  \n",
        "1.76  \n",
        "1.2   \n",
        "\n",
        "**Expected output**:  \n",
        "167  \n",
        "140  \n",
        "162  \n",
        "153  \n",
        "170  \n",
        "135  \n",
        "176  \n",
        "120  \n",
        "Average  \n",
        "153\n",
        "\n"
      ]
    },
    {
      "cell_type": "code",
      "metadata": {
        "id": "2dMgvQlUPirV",
        "colab": {
          "base_uri": "https://localhost:8080/"
        },
        "outputId": "b898b6a5-7d42-4e56-f0d0-6e0f02818528"
      },
      "source": [
        "\n",
        "def convert__to_cm():\n",
        "  height1 = float(input(\"\"))\n",
        "  height2 = float(input(\"\"))\n",
        "  height3 = float(input(\"\"))\n",
        "  height4 = float(input(\"\"))\n",
        "  height5 = float(input(\"\"))\n",
        "  height6 = float(input(\"\"))\n",
        "  height7 = float(input(\"\"))\n",
        "  height8 = float(input(\"\"))\n",
        "  height_cm1 = int(height1 * 100)\n",
        "  print(height_cm1)\n",
        "  height_cm2 = int(height2 * 100)\n",
        "  print(height_cm2)\n",
        "  height_cm3 = int(height3 * 100)\n",
        "  print(height_cm3)\n",
        "  height_cm4 = int(height4 * 100)\n",
        "  print(height_cm4)\n",
        "  height_cm5 = int(height5 * 100)\n",
        "  print(height_cm5)\n",
        "  height_cm6 = int(height6 * 100)\n",
        "  print(height_cm6)\n",
        "  height_cm7 = int(height7 * 100)\n",
        "  print(height_cm7)\n",
        "  height_cm8 = int(height8 * 100)\n",
        "  print(height_cm8)\n",
        "  average = (height_cm8 + height_cm7 + height_cm6 + height_cm5 + height_cm4 + height_cm3 + height_cm2 + height_cm1)/8\n",
        "  rounded_average = round(average)\n",
        "  print(\"Average\")\n",
        "  print(rounded_average)\n",
        "\n",
        "convert__to_cm()\n"
      ],
      "execution_count": null,
      "outputs": [
        {
          "output_type": "stream",
          "name": "stdout",
          "text": [
            "1.67\n",
            "1.4\n",
            "1.62\n",
            "1.53\n",
            "1.7\n",
            "1.35\n",
            "1.76\n",
            "1.2\n",
            "167\n",
            "140\n",
            "162\n",
            "153\n",
            "170\n",
            "135\n",
            "176\n",
            "120\n",
            "Average\n",
            "153\n"
          ]
        }
      ]
    },
    {
      "cell_type": "markdown",
      "metadata": {
        "id": "QTprQ2zhPi9L"
      },
      "source": [
        "---\n",
        "### Exercise 4 - float and formatting printing\n",
        "\n",
        "**Scenario**  \n",
        "\n",
        "At the time of writing, the exchange rate from Pounds (£) to Euros (€) is 1.16 (£1 = €1.16).  A dataset has share prices in pence (not pounds) and will need a new set of data added with the equivalent values in euros.\n",
        "\n",
        "**Your task**  \n",
        "\n",
        "Write a function called **convert_currency()** which will:\n",
        "\n",
        "You will use the file **\"sample_data/share_prices.txt\"** which should be pre-loaded in this worksheet.  If it isn't then download it from [here](https://drive.google.com/uc?id=17CwpYENup8UyOCma4ohPYQ317mfCfi67) and upload it into the sample data folder.  \n",
        "\n",
        "Before you start, take a look at the file in the sample data folder (double-click to open it) and decide what type of numbers you are dealing with (int or float?)\n",
        "\n",
        "*  read an amount in **pence** from the text file \"sample_data/share_prices.txt\" for each of the first FOUR prices in the list only  \n",
        "*  convert to **pounds** without rounding\n",
        "*  calculate the equivalent number of **euros**  \n",
        "*  print `euros`, rounded to 2 decimal places  \n",
        "\n",
        "**Test Input**:  \n",
        "In file \"share_prices.txt\"\n",
        "\n",
        "**Expected output**:  \n",
        "€  \n",
        "35.66  \n",
        "30.05  \n",
        "1.37  \n",
        "26.19  \n",
        "\n",
        "\n",
        "\n",
        "\n",
        "*If your keyboard does not have the € euro sign, then you might get it by using ctrl+alt+4*"
      ]
    },
    {
      "cell_type": "code",
      "metadata": {
        "id": "DXqxS75kQWOm",
        "outputId": "3d2cacad-9b24-44a4-9afe-5cb3fae609ed",
        "colab": {
          "base_uri": "https://localhost:8080/"
        }
      },
      "source": [
        "def convert_currency():\n",
        "  with open(\"/content/share_prices.txt\", \"r\") as datafile:\n",
        "    name = datafile.readlines()\n",
        "    name1 = round(float(name[0])/100*1.16, 2)\n",
        "    name2 = round(float(name[1])/100*1.16, 2)\n",
        "    name3 = round(float(name[2])/100*1.16, 2)\n",
        "    name4 = round(float(name[3])/100*1.16, 2)\n",
        "    print(\"€\")\n",
        "    print(name1)\n",
        "    print(name2)\n",
        "    print(name3)\n",
        "    print(name4)\n",
        "\n",
        "convert_currency()\n"
      ],
      "execution_count": null,
      "outputs": [
        {
          "output_type": "stream",
          "name": "stdout",
          "text": [
            "€\n",
            "35.66\n",
            "30.05\n",
            "1.37\n",
            "26.19\n"
          ]
        }
      ]
    },
    {
      "cell_type": "code",
      "source": [
        "def convert_currency():\n",
        "  with open(\"/content/share_prices.txt\", \"r\") as datafile:\n",
        "    name = datafile.readlines()\n",
        "    print(\"€\")\n",
        "  for i in name[0:4]:\n",
        "    print(round(float(i)/100*1.16, 2))\n",
        "\n",
        "convert_currency()"
      ],
      "metadata": {
        "id": "zUdG9_PBkQQd",
        "outputId": "689464f2-5a96-4e3a-b78b-f5ad6d0d790c",
        "colab": {
          "base_uri": "https://localhost:8080/"
        }
      },
      "execution_count": null,
      "outputs": [
        {
          "output_type": "stream",
          "name": "stdout",
          "text": [
            "€\n",
            "35.66\n",
            "30.05\n",
            "1.37\n",
            "26.19\n"
          ]
        }
      ]
    },
    {
      "cell_type": "code",
      "source": [
        "def convert_currency():\n",
        "  with open(\"/content/share_prices.txt\", \"r\") as datafile:\n",
        "    name = datafile.readlines()\n",
        "    print(\"€\")\n",
        "  i = 0\n",
        "  while i <= 3:\n",
        "    print(round(float(name[i])/100*1.16, 2))\n",
        "    i += 1\n",
        "convert_currency()"
      ],
      "metadata": {
        "id": "NCzwKfK0l7nL",
        "outputId": "22ca79ef-310e-4a3c-e607-f25127d3e2ca",
        "colab": {
          "base_uri": "https://localhost:8080/"
        }
      },
      "execution_count": null,
      "outputs": [
        {
          "output_type": "stream",
          "name": "stdout",
          "text": [
            "€\n",
            "35.66\n",
            "30.05\n",
            "1.37\n",
            "26.19\n"
          ]
        }
      ]
    },
    {
      "cell_type": "markdown",
      "metadata": {
        "id": "Eur4tRWUQWYL"
      },
      "source": [
        "---\n",
        "### Exercise 5 - rounding\n",
        "\n",
        "**Scenario**\n",
        "\n",
        "The *number of thousands* of families visiting a popular seaside attraction, in the winter, spring, summer and autumn, respectively, are given below.\n",
        "\n",
        "**Your task**\n",
        "\n",
        "Write a function called **calculate_visitor_stats()** which will:  \n",
        "\n",
        "*  assign the numbers 3.145, 5.672, 9.34, 4.138 to the variables named for the respective season  \n",
        "*  calculate the **total** actual number of families over the year (as a whole number)  \n",
        "*  calculate the **average** number of thousands of families per season, rounded to 2 decimal places\n",
        "*  calculate the **income** generated over the year from family tickets, priced at £25 per family in the winter, £30 per family in the spring and autumn and £40 per family in the summer  \n",
        "*  print `total`, `average`, `income` in messages which are labelled (see expected output)   \n",
        "\n",
        "**Test input**:   \n",
        "Given above  \n",
        "\n",
        "**Expected output**:   \n",
        "Total families  \n",
        "22295    \n",
        "Average families per season (1000s)  \n",
        "5574  \n",
        "Total income (£)  \n",
        "746525\n",
        "\n",
        "\n",
        "*Remember to calculate the average you divide the total by the quantity of numbers, e.g. total/4*\n"
      ]
    },
    {
      "cell_type": "code",
      "metadata": {
        "id": "pD1lMOhuRZvd",
        "outputId": "13111e4a-1b3c-4af5-b6f7-cd51ac5e68f8",
        "colab": {
          "base_uri": "https://localhost:8080/"
        }
      },
      "source": [
        "def calculate_visitor_stats():\n",
        "  winter=3.145\n",
        "  spring=5.672\n",
        "  summer=9.34\n",
        "  autumn=4.138\n",
        "  total= round((spring*1000)) + round((summer*1000)) + round((autumn*1000)) + round((winter*1000))\n",
        "  average = round ( total/4, 2)\n",
        "  income = round(winter * 1000 * 25) + round(spring * 1000 * 30) + round(autumn * 1000 * 30 ) + round(summer * 1000 * 40)\n",
        "  print(\"Total families\")\n",
        "  print(total)\n",
        "  print(\"Average families per season (1000s)\")\n",
        "  print(average)\n",
        "  print(\"Total income (£)\")\n",
        "  print(income)\n",
        "\n",
        "calculate_visitor_stats()"
      ],
      "execution_count": null,
      "outputs": [
        {
          "output_type": "stream",
          "name": "stdout",
          "text": [
            "Total families\n",
            "22295\n",
            "Average families per season (1000s)\n",
            "5573.75\n",
            "Total income (£)\n",
            "746525\n"
          ]
        }
      ]
    },
    {
      "cell_type": "markdown",
      "metadata": {
        "id": "jsV3uF5aRZ56"
      },
      "source": [
        "---\n",
        "### Exercise 6 - calculating volume\n",
        "\n",
        "**Scenario**\n",
        "\n",
        "Bill is a house mover. He has some data on cardboard packing boxes.  The data has the dimensions of packing boxes but not the volume that they hold.  He wants to add an extra piece of data for each that holds the volume.\n",
        "\n",
        "The calculation will be the same for each set of dimensions, so you should design the logic for this by writing a function that will calculate the volume for one box.  Then the same function can be used for each set of box dimensions.\n",
        "\n",
        "**Your task**\n",
        "\n",
        "Write a function called **calculate_volume()** which will:   \n",
        "\n",
        "*  assign the value 3.2, 5.6 and 7.8 to the variables **base**, **width** and **height** respectively  \n",
        "*  calculate the **box_volume** rounded to 1 decimal place  \n",
        "*  print the `box_volume`\n",
        "\n",
        "*Hint: volume = base x width x height*\n",
        "\n",
        "Expected output:  \n",
        "139.8\n"
      ]
    },
    {
      "cell_type": "code",
      "metadata": {
        "id": "WVLFFYayRwcN",
        "outputId": "e93174fe-9f40-42c8-983b-29f6d673c95a",
        "colab": {
          "base_uri": "https://localhost:8080/"
        }
      },
      "source": [
        "def calculate_volume():\n",
        "  base = 3.2\n",
        "  width = 5.6\n",
        "  height = 7.8\n",
        "  box_volume = round( base * width * height , 1)\n",
        "  print (box_volume)\n",
        "\n",
        "calculate_volume()"
      ],
      "execution_count": 6,
      "outputs": [
        {
          "output_type": "stream",
          "name": "stdout",
          "text": [
            "139.8\n"
          ]
        }
      ]
    },
    {
      "cell_type": "markdown",
      "metadata": {
        "id": "Apy8QqKIB3_c"
      },
      "source": [
        "---\n",
        "### Using Floor Division  \n",
        "\n",
        "So far, we have been using standard arithmetic operators. If we would like to divide without remainders (eg. no decimals) we can use floor division using the // operator.  This will always round down.  \n",
        "\n",
        "For example:  \n",
        "42/8 = 5.75  \n",
        "BUT  \n",
        "42//8 = 5\n",
        "\n",
        "There are many cases where this type of division is useful and it is often used alongside the % (modulus) operator, which will give the remainder after the division (ie the bit that got dropped)"
      ]
    },
    {
      "cell_type": "markdown",
      "metadata": {
        "id": "eGo_VENXRwo0"
      },
      "source": [
        "---\n",
        "### Exercise 7 - calculating with volumes\n",
        "\n",
        "**Scenario**\n",
        "\n",
        "Bill would like a look up function to help him to calculate how many boxes he will need for a move.  He would like a function that will calculate how many boxes he needs once he has entered the volume of stuff. There can't be any stuff left over so even if the last bit won't fill a whole box, a box is still needed.\n",
        "\n",
        "**Your task**\n",
        "\n",
        "Building on what you did in the last exercise, write a function called **calculate_boxes()** which will:  \n",
        "\n",
        "*  calculate the volume of a box, using a **base** of 3.2, **width** of 5.6 and **height** of 7.8  \n",
        "*  ask Bill for the **total_volume** of the stuff he needs to move (use input() )  \n",
        "*  calculate the total **number_of_boxes** he will need, and print the `number_of_boxes`  \n",
        "\n",
        "*Hint: the `total` will not be a whole number - you should use floor division and add one to the answer (for the box that will have the leftovers).*\n",
        "\n",
        "Test Input:  \n",
        "1500  \n",
        "\n",
        "Expected output:  \n",
        "11  \n"
      ]
    },
    {
      "cell_type": "code",
      "metadata": {
        "id": "0X6TKFubSIpT"
      },
      "source": [],
      "execution_count": null,
      "outputs": []
    },
    {
      "cell_type": "markdown",
      "metadata": {
        "id": "paxj6AccSIwy"
      },
      "source": [
        "---\n",
        "### Exercise 8 - parcel charge lookup\n",
        "\n",
        "**Scenario**\n",
        "\n",
        "A parcel delivery company needs to use it pricing data to allow desk staff to look up the price based on the weights of each set of parcels to be delivered for a customer.  This will be added to the data being stored\n",
        "\n",
        "**Your task**\n",
        "Write a function called **calculate_parcel_weight()** which will:  \n",
        "\n",
        "*  ask the user to enter the customer_reference, then the weights, in kg, of four parcels (**weight1, weight2, weight3, weight4**)\n",
        "*  calculate the total **parcel_weight** and display this in a whole number of kg, **always** rounded up to the next kg\n",
        "*  print the customer's reference followed by the total `parcel_weight`\n",
        "\n",
        "*Hint: if you use round(), it could either round up or down. In this scenario, we always need to round up.  Floor division could be a better option - always round down and then add one.  This way 8.11kg will be recorded as 9kg in the same way as 8.77kg would be charged as 9kg so that as long as it is **at least** 8kg, it is recorded as 9kg.* (dealing with exactly 8kg will be left for a later version)\n",
        "\n",
        "**Test Inputs**:  \n",
        "CUST1\n",
        "1.23  \n",
        "2.84  \n",
        "1.675  \n",
        "3.03  \n",
        "\n",
        "**Expected output**:  \n",
        "CUST1, 9kg\n"
      ]
    },
    {
      "cell_type": "code",
      "metadata": {
        "id": "Lulkpg6rStwT"
      },
      "source": [],
      "execution_count": null,
      "outputs": []
    },
    {
      "cell_type": "markdown",
      "metadata": {
        "id": "SduMAQwsXKiA"
      },
      "source": [
        "---\n",
        "### Exercise 9 - modulus\n",
        "\n",
        "**Scenario**\n",
        "\n",
        "Your data analyst has some data which contains timestamps relating to activity that only happens in the afternoon.  These are stored in 24 hour format (e.g. 1350). The analyst needs to create two new columns in the dataset, one for the hour and one for the minutes, in 12 hour format (e.g. 1.50pm).  You have been asked to create a prototype for this so that it can be added to the data handling system.  \n",
        "\n",
        "**Your task**  \n",
        "\n",
        "Write a function called **get_pm_minutes()** which will:  \n",
        "\n",
        "*  ask the user to enter an afternoon **time** in 24 hour clock (e.g. 1350)\n",
        "*  use floor division to get the **hour** (ie divide by 100)  \n",
        "*  use modulus (%) to get the **minutes**  \n",
        "*  subtract 12 to get the 12 hour clock storing the result back in `hour`      \n",
        "*  print a message to say that It is `minutes` minutes past `hour` PM\n",
        "\n",
        "**Test Input**:  \n",
        "1350  \n",
        "\n",
        "**Expected output**:  \n",
        "It is 50 minutes past 1 PM\n",
        "\n",
        "*(Is it possible to use this code to get the right hour for a morning time?  You will do this in the section that allows selection depending on value)*\n",
        "\n"
      ]
    },
    {
      "cell_type": "code",
      "metadata": {
        "id": "dSxM7C1dXK9g"
      },
      "source": [],
      "execution_count": null,
      "outputs": []
    },
    {
      "cell_type": "markdown",
      "metadata": {
        "id": "HUwYL72HSt5b"
      },
      "source": [
        "---\n",
        "### Exercise 10 - How many tins of beans?  \n",
        "\n",
        "**Scenario**\n",
        "\n",
        "A factory keeps a set of data relating to all the different size boxes it has available for shipping tins of beans.  They would like a look up that can take the dimensions of a box and calculate how many tins can be stacked in the box.  Tins will stand upright and will be stored in layers, so a number of tins will line the base, then the same number of tins will sit on top, until the box is full to the top, without space to fit any more layers.\n",
        "\n",
        "**Your task**\n",
        "\n",
        "Write a function called **calculate_tins()** that will calculate how many tins of beans will fit in a cardboard box. Bean tins are *11cm tall* and *8cm* diameter.  All tins will be standing up and can be stacked in layers.  \n",
        "\n",
        "*  ask the user to enter the **height**, **width** and **depth** of the box as follows: height - 24, width - 50, depth - 18     \n",
        "*  calculate the **number_of_tins** that can fit in the box   \n",
        "*  print the `number_of_tins` that can fit  \n",
        "\n",
        "*Hint: you will need to calculate the number of layers, and the number that will fit in each direction, the product (all of the numbers multiplied together) will tell you how many tins. All answers must be whole numbers*  \n",
        "\n",
        "**Test input**  \n",
        "24\n",
        "50\n",
        "18\n",
        "\n",
        "**Expected output**:  \n",
        "24   \n"
      ]
    },
    {
      "cell_type": "code",
      "metadata": {
        "id": "HNTLnqrDVdAW"
      },
      "source": [],
      "execution_count": null,
      "outputs": []
    },
    {
      "cell_type": "markdown",
      "source": [
        "---\n",
        "# Takeaways from this worksheet\n",
        "* standard operators are used with numeric data to calculate new data\n",
        "* apart from the standard BIDMAS (Brackets, Indices, Division, Multiplication, Addition, Subtraction) other useful operators are floor division, which gets the whole number answer from a division, and modulus, which gets the remainder after the division.\n",
        "* the round() function can be used to round any float number to a number of decimal places.  If you don't specify how many decimal places, it will rount to a whole number.\n",
        "* although a lot of problems requires mathematical calculations, the problems are about working out the logic, so that you know what operations, and which data, to choose."
      ],
      "metadata": {
        "id": "nDIjwfdGvkH0"
      }
    },
    {
      "cell_type": "markdown",
      "source": [
        "---\n",
        "# Your thoughts on what you have learnt\n",
        "Please add some comments in the box below to reflect on what you have learnt through completing this worksheet, and any problems you encountered while doing so."
      ],
      "metadata": {
        "id": "Tvo9OlBlvg-1"
      }
    },
    {
      "cell_type": "markdown",
      "source": [],
      "metadata": {
        "id": "BZhKgyclviil"
      }
    }
  ]
}
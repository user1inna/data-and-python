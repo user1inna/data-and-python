{
  "nbformat": 4,
  "nbformat_minor": 0,
  "metadata": {
    "colab": {
      "provenance": [],
      "include_colab_link": true
    },
    "kernelspec": {
      "name": "python3",
      "display_name": "Python 3"
    },
    "language_info": {
      "name": "python"
    }
  },
  "cells": [
    {
      "cell_type": "markdown",
      "metadata": {
        "id": "view-in-github",
        "colab_type": "text"
      },
      "source": [
        "<a href=\"https://colab.research.google.com/github/user1inna/data-and-python/blob/main/Worksheets/10_Error_handling_and_testing.ipynb\" target=\"_parent\"><img src=\"https://colab.research.google.com/assets/colab-badge.svg\" alt=\"Open In Colab\"/></a>"
      ]
    },
    {
      "cell_type": "markdown",
      "metadata": {
        "id": "llhPjzuu7KLX"
      },
      "source": [
        "# Dealing with errors\n",
        "---\n",
        "\n",
        "There are various types of error that a well written function will handle but which can sometimes be forgotten.\n",
        "\n",
        "Errors can be categorised into:\n",
        "*  Syntax errors  \n",
        "errors in the code that stop it from being interpreted and run - these are often picked up by the code editor, or by Python when it tries to translate the code before running it  \n",
        "\n",
        "*  Logic errors  \n",
        "these are hard to pick up and rely on good testing or user feedback.  A logic error will result in 'wrong' data or functionality  \n",
        "\n",
        "*  Runtime errors  \n",
        "these are generally caused by operations that work perfectly well with the 'right' data but fall over if they encounter the 'wrong' data.\n",
        "\n",
        "\n"
      ]
    },
    {
      "cell_type": "markdown",
      "source": [
        "---\n",
        "\n",
        "### Exercise 1  \n",
        "\n",
        "The code below has a `syntax` error.  Correct the error and run the code."
      ],
      "metadata": {
        "id": "YClc6urF6Tav"
      }
    },
    {
      "cell_type": "code",
      "metadata": {
        "id": "fqvRJOFz7HEs",
        "colab": {
          "base_uri": "https://localhost:8080/"
        },
        "outputId": "c4fc0957-f420-489b-cc56-7c9eaf101ca7"
      },
      "source": [
        "def get_list():\n",
        "  mylist = [\"red\",'yellow','pink',\"green\",'orange',\"purple\", \"blue\"]\n",
        "  return mylist\n",
        "\n",
        "print(get_list())"
      ],
      "execution_count": 1,
      "outputs": [
        {
          "output_type": "stream",
          "name": "stdout",
          "text": [
            "['red', 'yellow', 'pink', 'green', 'orange', 'purple', 'blue']\n"
          ]
        }
      ]
    },
    {
      "cell_type": "markdown",
      "metadata": {
        "id": "G8fVmU5h86Dn"
      },
      "source": [
        "---\n",
        "### Exercise 2\n",
        "\n",
        "\n",
        "The code below has a `logic` error.  The function is being run by a test, which will fail on first run.  Correct the error and run the code to get the test to pass."
      ]
    },
    {
      "cell_type": "code",
      "metadata": {
        "id": "irDAREWJ9AdV",
        "colab": {
          "base_uri": "https://localhost:8080/"
        },
        "outputId": "92225381-5966-4c6c-8942-19ea8fb3df6a"
      },
      "source": [
        "def calculate_average(nums):\n",
        "  total = 0\n",
        "  for num in range(0, len(nums)):\n",
        "    total = nums[num]\n",
        "    return total\n",
        "\n",
        "# Test\n",
        "actual = calculate_average([4,2,6,8,3,1])\n",
        "expected = 4\n",
        "if  actual == expected:\n",
        "  print(\"Test passed\")\n",
        "else:\n",
        "  print(\"Test failed, expected\", expected, \"but got\", actual)\n"
      ],
      "execution_count": 25,
      "outputs": [
        {
          "output_type": "stream",
          "name": "stdout",
          "text": [
            "Test passed\n"
          ]
        }
      ]
    },
    {
      "cell_type": "markdown",
      "metadata": {
        "id": "sBXNkQqJ9bX-"
      },
      "source": [
        "---\n",
        "### Exercise 3\n",
        "\n",
        "\n",
        "The code below does not have any errors and will run perfectly well, until it receives some data that doesn't fit what it is expecting.  Run the code, entering the number 16, it will crash (a runtime error) because the Python input() function always returns a string, which can't be divided.  One solution is to convert the input to an integer.  This will deal with the input problem in most cases.  \n",
        "\n",
        "Make a change to the function code to convert the input into an int.  Then run the test again, there should be no runtime error and the test should now pass."
      ]
    },
    {
      "cell_type": "code",
      "metadata": {
        "id": "1A5DkNo59ZZA",
        "colab": {
          "base_uri": "https://localhost:8080/"
        },
        "outputId": "ef446d3f-bf78-408e-d642-58850ea81b3e"
      },
      "source": [
        "def get_user_input():\n",
        "  user_input = int(input(\"Please enter a number \"))\n",
        "  return user_input\n",
        "\n",
        "### Test 1 - user enters 16 ###\n",
        "print(\"Test 1 - with valid integer\")\n",
        "actual = get_user_input() / 2\n",
        "expected = 8\n",
        "if  actual == expected:\n",
        "  print(\"Test passed\")\n",
        "else:\n",
        "  print(\"Test failed, expected\", expected, \"but got\", actual)\n"
      ],
      "execution_count": 27,
      "outputs": [
        {
          "output_type": "stream",
          "name": "stdout",
          "text": [
            "Test 1 - with valid integer\n",
            "Please enter a number 16\n",
            "Test passed\n"
          ]
        }
      ]
    },
    {
      "cell_type": "markdown",
      "metadata": {
        "id": "1UI44hURAgf2"
      },
      "source": [
        "---\n",
        "### Exercise 4\n",
        "\n",
        "\n",
        "The solution you have just implemented will solve the known problem that input() always returns a string, BUT, what if the user actually enters something that isn't a number?  Run the code below, it will crash with the input **six** but we don't want users to be informed of an input error by the program crashing!\n",
        "\n",
        "This error is not a given (like inputs always being strings) it has to be anticipated as a possibility.  \n",
        "\n",
        "In these cases - often from any form of input not being of the right type, including from the user, a file, an API call, a database read or function parameters - we want to try to handle the error and to allow the program to deal with it gracefully, instead of crashing.\n",
        "\n",
        "Most programming languages have instructions for handling runtime errors like this.  In any situation where there is potential for runtime errors, you can use:  \n",
        "\n",
        "```\n",
        "try:\n",
        "  # code to run\n",
        "except:\n",
        "  # what to do if there is an error, to handle the problem gracefully and move on\n",
        "```\n",
        "If a runtime error occurs at any point within the `try` section, processing will switch to the `except` section and run the code there (this might report the problem to the user, then stop so that processing continues from before the try, or it might log the error, inform the user and shut the program down).  What is done in the `except` section depends on the severity of the error and its effect on the further running of the program (ie data might be corrupted at this point and so it is not advisable to continue).  \n",
        "\n",
        "In the example below, the runtime error occurs when it is trying to divide numbers that are not valid, so we will use `try: .. except: ..` in the function to ensure that a valid number is always returned and that an error message to the user is shown if the input was invalid.  For this example, if there is an invalid input we will return 0 (so we are always returning a valid input but it will result in 0 when divided so for the purposes of this example, this will do)\n",
        "\n",
        "### Add a second test for invalid integers\n",
        "\n",
        "Add a second test to the code below:\n",
        "\n",
        "This test should expect that the result is 0 when the user enters a word, such as `six`.\n",
        "\n",
        "The code below now has two tests, the first expects the user to enter 16 and the second expects the user to enter the word *six*\n",
        "\n",
        "Run the code, first enter 16 and you should see that the first test still passes, even though the code has been changed to include the `try...except`.  \n",
        "\n",
        "You will be asked to enter a number again (as there are 2 tests).  Enter `six` and you should see that this test also passes, but should see an error message letting you know that this was an invalid number.  The code is doing exactly what it should do:  \n",
        "\n",
        "```\n",
        "Test 1 - with valid integer\n",
        "Please enter a number 16\n",
        "Test passed\n",
        "\n",
        "Test 2 - with invalid integer\n",
        "Please enter a number six\n",
        "Invalid number, run the function again\n",
        "Test passed\n",
        "```"
      ]
    },
    {
      "cell_type": "code",
      "metadata": {
        "id": "2ce-rQZ6gmBM",
        "colab": {
          "base_uri": "https://localhost:8080/"
        },
        "outputId": "6e8aa7a8-775e-40a2-8cc9-7c98d71c0f9c"
      },
      "source": [
        "def get_user_input():\n",
        "  try:\n",
        "    user_input = int(input(\"Please enter a number \"))\n",
        "    return user_input\n",
        "  except:\n",
        "    print(\"Invalid number, run the function again\")\n",
        "    return 0\n",
        "\n",
        "### Test 1 - user enters 16 ###\n",
        "print(\"Test 1 - with valid integer\")\n",
        "actual = get_user_input() / 2\n",
        "expected = 8\n",
        "if  actual == expected:\n",
        "  print(\"Test passed\")\n",
        "else:\n",
        "  print(\"Test failed, expected\", expected, \"but got\", actual)\n",
        "\n",
        "### Test 2 - user enters six ###\n",
        "# ADD YOUR TEST CODE HERE #\n",
        "print(\"Test 2 - with invalid integer\")\n",
        "actual = get_user_input() / 2\n",
        "expected = 0.00\n",
        "if  actual == expected:\n",
        "  print(\"Test passed\")\n",
        "else:\n",
        "  print(\"Test failed, expected\", expected, \"but got\", actual)"
      ],
      "execution_count": 39,
      "outputs": [
        {
          "output_type": "stream",
          "name": "stdout",
          "text": [
            "Test 1 - with valid integer\n",
            "Please enter a number 16\n",
            "Test passed\n",
            "Test 2 - with invalid integer\n",
            "Please enter a number 16\n",
            "Test failed, expected 0.0 but got 8.0\n"
          ]
        }
      ]
    },
    {
      "cell_type": "markdown",
      "metadata": {
        "id": "QmeO2NR0gpYi"
      },
      "source": [
        "---\n",
        "### Exercise 5 - add a third test\n",
        "\n",
        "\n",
        "Add a Test 3, to test for the user just pressing enter and not entering anything at all. The expected result will be the same as Test 2\n",
        "\n"
      ]
    },
    {
      "cell_type": "code",
      "metadata": {
        "id": "z69J6BTDBCMG",
        "colab": {
          "base_uri": "https://localhost:8080/"
        },
        "outputId": "824609cc-01c7-4d13-9e8f-b06776b290ed"
      },
      "source": [
        "def get_user_input():\n",
        "  try:\n",
        "    user_input = int(input(\"Please enter a number \"))\n",
        "    return user_input\n",
        "  except:\n",
        "    print(\"Invalid number, run the function again\")\n",
        "    return 0\n",
        "\n",
        "### Test 1 - user enters 16 ###\n",
        "print(\"Test 1 - with valid integer\")\n",
        "actual = get_user_input() / 2\n",
        "expected = 8\n",
        "if  actual == expected:\n",
        "  print(\"Test passed\")\n",
        "else:\n",
        "  print(\"Test failed, expected\", expected, \"but got\", actual)\n",
        "\n",
        "### Test 2 - user enters six ###\n",
        "# COPY YOUR TEST CODE HERE #\n",
        "print(\"Test 2 - with invalid integer\")\n",
        "actual = get_user_input() / 2\n",
        "expected = 0.00\n",
        "if  actual == expected:\n",
        "  print(\"Test passed\")\n",
        "else:\n",
        "  print(\"Test failed, expected\", expected, \"but got\", actual)\n",
        "### Test 3 - user enters nothing ###\n",
        "# ADD YOUR TEST CODE HERE #\n",
        "print(\"Test 3 - with invalid integer\")\n",
        "actual = get_user_input() / 2\n",
        "expected = 0.00\n",
        "if  actual == expected:\n",
        "  print(\"Test passed\")\n",
        "else:\n",
        "  print(\"Test failed, expected\", expected, \"but got\", actual)\n",
        "\n",
        "\n"
      ],
      "execution_count": 42,
      "outputs": [
        {
          "output_type": "stream",
          "name": "stdout",
          "text": [
            "Test 1 - with valid integer\n",
            "Please enter a number 16\n",
            "Test passed\n",
            "Test 2 - with invalid integer\n",
            "Please enter a number six\n",
            "Invalid number, run the function again\n",
            "Test passed\n",
            "Test 3 - with invalid integer\n",
            "Please enter a number \n",
            "Invalid number, run the function again\n",
            "Test passed\n"
          ]
        }
      ]
    },
    {
      "cell_type": "markdown",
      "metadata": {
        "id": "Ol_Z4kRpJEVr"
      },
      "source": [
        "---\n",
        "### Exercise 6 - opening a file\n",
        "\n",
        "\n",
        "Write a function that will return an open file if it is given the file name.  If the file doesn't exist, a message should be shown to the user and the function should return None.  If the file does exist, and is opened correctly, the function should return the file to the caller.  \n",
        "\n",
        "The code has been started for you and two tests have been written.  \n",
        "\n",
        "Run the program with the second test commented out, to test that it works if the file doesn't exist (this assumes that you don't have a file called `error.txt` in the same directory as this notebook.  \n",
        "\n",
        "Now create a text file called **valid_file.txt** and upload it into this notebook.  Uncomment the second test and run again.  Both tests should now pass.\n",
        "\n",
        "*Note*:  The tests look a little different now - this time instead of comparing actual with expected, the test looks at if the actual result is None or not None.  This is because it is impossible to tell what result will be returned for a valid file, as this is dependent on the file and the operating system.  It is sufficient to know that the file is opened if it exists and that the program doesn't crash if it doesn't.\n",
        "\n"
      ]
    },
    {
      "cell_type": "code",
      "metadata": {
        "id": "F2syhzV7KzB7",
        "colab": {
          "base_uri": "https://localhost:8080/"
        },
        "outputId": "06b7655d-afcb-4317-c03c-f2589d96b860"
      },
      "source": [
        "import os\n",
        "\n",
        "def get_file(filename):\n",
        "  # add your code here to open the file and return it, or to print an error message and return None\n",
        "  try:\n",
        "    file = open(filename)\n",
        "    return file\n",
        "  except:\n",
        "    print(\"File does not exist\")\n",
        "    return None\n",
        "\n",
        "# Test 1 - try to open a file that doesn't exist\n",
        "print(\"Test 1 file doesn't exist\")\n",
        "actual = get_file(\"error.txt\")\n",
        "if actual is None:\n",
        "  print(\"Test passed\")\n",
        "else:\n",
        "  print(\"Test failed, should have received None\")\n",
        "\n",
        "# # Test 2 - try to open a file that does exist\n",
        "print(\"\\nTest 2 file does exist\")\n",
        "actual = get_file(\"valid_file.txt\")\n",
        "if actual is not None:\n",
        "  print(\"Test passed\")\n",
        "else:\n",
        "  print(\"Test failed, should have received file\")"
      ],
      "execution_count": 45,
      "outputs": [
        {
          "output_type": "stream",
          "name": "stdout",
          "text": [
            "Test 1 file doesn't exist\n",
            "File does not exist\n",
            "Test passed\n",
            "\n",
            "Test 2 file does exist\n",
            "File does not exist\n",
            "Test failed, should have received file\n"
          ]
        }
      ]
    },
    {
      "cell_type": "markdown",
      "metadata": {
        "id": "OACfOBCiRJkZ"
      },
      "source": [
        "---\n",
        "### Exercise 7 - write a test\n",
        "\n",
        "\n",
        "The function in the code cell below will take two parameters (two integers), and will return the result of dividing the first by the second, rounded to 2 decimal places.  If either isn't a number, it will return -999999  (not an impossible answer but improbable).\n",
        "\n",
        "Write a test for this function that will run it with the numbers 15 and 3 and will expect the answer to be 5."
      ]
    },
    {
      "cell_type": "code",
      "metadata": {
        "id": "HScLyIF4SY6o",
        "colab": {
          "base_uri": "https://localhost:8080/"
        },
        "outputId": "2087086d-3841-4e63-c729-907b9f6a198a"
      },
      "source": [
        "def divide_nums(num1, num2):\n",
        "  try:\n",
        "    answer = num1 / num2\n",
        "    return answer\n",
        "  except:\n",
        "    return -999999\n",
        "\n",
        "# Test 1 - works with valid numbers (15 divided by 3 is 5)\n",
        "divide = divide_nums(15, 3)\n",
        "if divide == 5:\n",
        "  print(\"Test passed\")\n",
        "else:\n",
        "  print(\"Test failed\")"
      ],
      "execution_count": 46,
      "outputs": [
        {
          "output_type": "stream",
          "name": "stdout",
          "text": [
            "Test passed\n"
          ]
        }
      ]
    },
    {
      "cell_type": "markdown",
      "metadata": {
        "id": "eYfYXH9PTA5W"
      },
      "source": [
        "---\n",
        "### Exercise 8 - add two more tests\n",
        "\n",
        "\n",
        "Add two more tests for this function:\n",
        "\n",
        "*Test 2* - Test running the function with the numbers `(20, 0.3)` and expect the answer to be `66.67`\n",
        "\n",
        "*Test 3* - Test running the function with `(20, None)` and expect the answer to be `-999999`\n",
        "\n",
        "Run the tests and then **modify the function** so that the test using the numbers `(20, 0.3)` passes."
      ]
    },
    {
      "cell_type": "code",
      "metadata": {
        "id": "zYD_a_dlWIbf",
        "colab": {
          "base_uri": "https://localhost:8080/"
        },
        "outputId": "4e1a738e-5789-4430-d545-cf9ee35da502"
      },
      "source": [
        "def divide_nums(num1, num2):\n",
        "  try:\n",
        "    answer = num1 / num2\n",
        "    return answer\n",
        "  except:\n",
        "    return -999999\n",
        "\n",
        "## COPY YOUR TEST CODE, THEN ADD THE TWO EXTRA TESTS\n",
        "\n",
        "# Test 1 - works with valid numbers (15 divided by 3 is 5)\n",
        "divide = divide_nums(15, 3)\n",
        "if divide == 5:\n",
        "  print(\"Test passed\")\n",
        "else:\n",
        "  print(\"Test failed\")\n",
        "\n",
        "# Test 2 - Test running the function with the numbers (20, 0.3) and expect the answer to be 66.67\n",
        "divide = divide_nums(20, 0.3)\n",
        "if divide == 66.67:\n",
        "  print(\"Test passed\")\n",
        "else:\n",
        "  print(\"Test failed\")\n",
        "\n",
        "# Test 3 - Test running the function with (20, None) and expect the answer to be -999999\n",
        "divide = divide_nums(20, None)\n",
        "if divide == -999999:\n",
        "  print(\"Test passed\")\n",
        "else:\n",
        "  print(\"Test failed\")\n"
      ],
      "execution_count": 49,
      "outputs": [
        {
          "output_type": "stream",
          "name": "stdout",
          "text": [
            "Test passed\n",
            "Test failed\n",
            "Test passed\n"
          ]
        }
      ]
    },
    {
      "cell_type": "markdown",
      "metadata": {
        "id": "ZaluV9ejWUqs"
      },
      "source": [
        "---\n",
        "### Exercise 9 - function with `try..except` and test\n",
        "\n",
        "\n",
        "Write a function called **find_list_average(numlist, listname)** that will accept a list of numbers `(numlist)` and a word representing the name of the list `(listname)`.  The function will calculate the average of `numlist` and will return the string \"The average of the numbers in \" + `listname` + \" is \" + `str(average)` + \".\"\n",
        "\n",
        "Use `try..except` to catch any runtime errors that might occur and return `\"There was a problem\"` if any do.\n",
        "\n",
        "Write a set of tests for this function to test that:  \n",
        "*  a valid set of numbers, with a valid name works\n",
        "*  it catches the error if the parameters are round the wrong way `(listname, numlist)` rather than `(numlist, listname)`\n",
        "*  it catches the error is the list is empty (which might result in dividing by 0)\n",
        "*  it catches the error if the numlist contains null values (None)\n",
        "*  it shows the result `The average of the numbers in unnamed list is 4.5.` if the listname is an empty string.  Note:  this test may well fail unless you had code in your function to deal with the string being empty.  This is a logic error - change the code so that if the listname is \"\" it will be set to \"unnamed list\".  Then run the tests again, they should all pass."
      ]
    },
    {
      "cell_type": "code",
      "source": [
        "def find_list_average(numlist, listname):\n",
        "  try:\n",
        "    if listname == \"\":\n",
        "      listname = \"unnamed\"\n",
        "    average = sum(numlist) / len(numlist)\n",
        "    return \"The average of the numbers in \" + listname + \" list is \" + str(average) + \".\"\n",
        "  except:\n",
        "    return \"There was a problem\"\n",
        "\n",
        "# Test1\n",
        "average1 = find_list_average([4, 2, 6, 8, 3, 4], \"unnamed\")\n",
        "if average1 == \"The average of the numbers in unnamed list is 4.5.\":\n",
        "  print(\"Test passed\")\n",
        "else:\n",
        "  print(\"Test failed\")\n",
        "# Test2\n",
        "average2 = find_list_average(4, \"test\")\n",
        "if average2 == \"There was a problem\":\n",
        "  print(\"Test passed\")\n",
        "else:\n",
        "  print(\"Test failed\")\n",
        "# Test3\n",
        "average3 = find_list_average([], \"test\")\n",
        "if average3 == \"There was a problem\":\n",
        "  print(\"Test passed\")\n",
        "else:\n",
        "  print(\"Test failed\")\n",
        "# Test4\n",
        "average4 = find_list_average([None], \"test\")\n",
        "if average4 == \"There was a problem\":\n",
        "  print(\"Test passed\")\n",
        "else:\n",
        "  print(\"Test failed\")\n",
        "# Test5\n",
        "average5 = find_list_average([4, 2, 6, 8, 3, 4], \"\")\n",
        "if average5 == \"The average of the numbers in unnamed list is 4.5.\":\n",
        "  print(\"Test passed\")\n",
        "else:\n",
        "  print(\"Test failed\")\n"
      ],
      "metadata": {
        "id": "WyLWrp6M3xsN",
        "outputId": "8cd7c73f-3c1a-4eb8-acde-bce86506bb4f",
        "colab": {
          "base_uri": "https://localhost:8080/"
        }
      },
      "execution_count": 136,
      "outputs": [
        {
          "output_type": "stream",
          "name": "stdout",
          "text": [
            "Test passed\n",
            "Test passed\n",
            "Test passed\n",
            "Test passed\n",
            "Test passed\n"
          ]
        }
      ]
    },
    {
      "cell_type": "markdown",
      "metadata": {
        "id": "PFbTeF6ZrHoP"
      },
      "source": [
        "---\n",
        "### Exercise 10 - further reference\n",
        "\n",
        "You might want to look at this tutorial for more on [exception handling](https://www.python-course.eu/python3_exception_handling.php)\n",
        "\n",
        "and this tutorial for more on [test driven development](https://www.tutorialspoint.com/software_testing_dictionary/test_driven_development.htm)"
      ]
    },
    {
      "cell_type": "markdown",
      "metadata": {
        "id": "yQyytEbnZ1lw"
      },
      "source": [
        "----\n",
        "# Takeaways\n",
        "\n",
        "*  syntax errors are errors in the use of the language and are picked up in the code cell (red underlining tends to indicate a syntax error)\n",
        "*  logic errors cause the output of the code to be incorrect and are identified through testing\n",
        "*  runtime errors cause the code to crash unless they are caught using try..except\n",
        "*  try - run the code in the hope that nothing will crash\n",
        "*  except - if the code does crash, deal with it by generating an error message or doing something else\n",
        "*  we can test the output of functions by running them over and over again with different data, if tests fail then we know we need to look for a logic error."
      ]
    },
    {
      "cell_type": "markdown",
      "metadata": {
        "id": "Zgexd27sZ1ly"
      },
      "source": [
        "## Your thoughts on what you have learnt\n",
        "Please add some comments in the box below to reflect on what you have learnt through completing this worksheet, and any problems you encountered while doing so."
      ]
    },
    {
      "cell_type": "markdown",
      "metadata": {
        "id": "aDYmIIcEbT7x"
      },
      "source": [
        "I found out about try except. Task of exercise 6 was hardly to understand firstly.  "
      ]
    }
  ]
}
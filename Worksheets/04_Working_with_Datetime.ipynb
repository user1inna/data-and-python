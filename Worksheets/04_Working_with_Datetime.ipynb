{
  "nbformat": 4,
  "nbformat_minor": 0,
  "metadata": {
    "colab": {
      "provenance": [],
      "include_colab_link": true
    },
    "kernelspec": {
      "name": "python3",
      "display_name": "Python 3"
    },
    "language_info": {
      "name": "python"
    }
  },
  "cells": [
    {
      "cell_type": "markdown",
      "metadata": {
        "id": "view-in-github",
        "colab_type": "text"
      },
      "source": [
        "<a href=\"https://colab.research.google.com/github/user1inna/data-and-python/blob/main/Worksheets/04_Working_with_Datetime.ipynb\" target=\"_parent\"><img src=\"https://colab.research.google.com/assets/colab-badge.svg\" alt=\"Open In Colab\"/></a>"
      ]
    },
    {
      "cell_type": "markdown",
      "metadata": {
        "id": "7iQyKP-SQiw1"
      },
      "source": [
        "# User-defined functions using datetime library\n",
        "\n",
        "---\n"
      ]
    },
    {
      "cell_type": "markdown",
      "metadata": {
        "id": "Vi93h5I4QnKs"
      },
      "source": [
        "When working with dates and times, fairly common in data sets, we need to be able to extract certain bits of information.  \n",
        "\n",
        "In Python, as with other languages, dates and times are stored in a data **object** that combines the two together and stores the information as a number of seconds since a start point (often 1st January 1900).  This is obviously a large number but every bit of information about a date can be extracted from it and used to give a wide range of information.  \n",
        "\n",
        "Before you can use datetime functions you will need to import them. Import the datetime function with whichever of these is most appropriate for what you are doing:\n",
        "\n",
        "`from datetime import datetime`   \n",
        "`from datetime import datetime, timedelta`\n",
        "\n",
        "\n",
        "For more information about datetime functions visit [Python docs](https://docs.python.org/3/library/datetime.html)\n",
        "\n",
        "## Watch this [video](https://vimeo.com/989582446/90fd251483?share=copy) before you start"
      ]
    },
    {
      "cell_type": "markdown",
      "metadata": {
        "id": "MIDLi7CNR034"
      },
      "source": [
        "---\n",
        "### Exercise 1 - print current date and time\n",
        "\n",
        "Write a function that will get the date and time now, then print it.  \n",
        "\n",
        "*Hint:  the format has been added for you, the other exercises will follow a similar format.   Always remember to import datetime from datetime as shown below*\n",
        "\n",
        "`datetime.now()` can be used to get the current date and time  \n",
        "\n",
        "We use datetime to create a date/time object containing Year, Month, Day, Hour, Minutes, Seconds.  We can either tell it the date and time, we want it to create or ask it to create the date and time now.\n",
        "\n",
        "You can use:  \n",
        "`now = datetime.now()` to get the current date and time   \n",
        "\n",
        "You may notice that the time is out by an hour (due to British Summer Time).  Later you will see how it is possible to add an hour on when you create the date and time).    \n",
        "\n",
        "Examples of using datetime to create a date and time:  \n",
        "\n",
        "`now = datetime.now()`  \n",
        "`start_date = datetime(2024, 7, 22)` if no time is given, the time will be set to midnight  \n",
        "`end_date_time = datetime(2024, 9,4,19,0,0)`\n",
        "\n",
        "Examples of getting a day, month, year, hour, etc from a datetime (these examples use `end_date_time`):  \n",
        "`day = end_date_time.day`  \n",
        "`month = end_date_time.month`  \n",
        "`minute = end_date_time.minute`  \n",
        "\n",
        "\n",
        "\n",
        "\n"
      ]
    },
    {
      "cell_type": "code",
      "metadata": {
        "id": "gS6GJdXbQfHp",
        "outputId": "75b096ce-68d5-4b38-c81e-a00ebdaaf7e3",
        "colab": {
          "base_uri": "https://localhost:8080/"
        }
      },
      "source": [
        "from datetime import datetime\n",
        "\n",
        "def get_datetime_now():\n",
        "  # add your code to get the current date and time below here\n",
        "  now = datetime.now()\n",
        "  print(now)\n",
        "\n",
        "get_datetime_now()"
      ],
      "execution_count": 4,
      "outputs": [
        {
          "output_type": "stream",
          "name": "stdout",
          "text": [
            "2024-08-07 16:37:41.804686\n"
          ]
        }
      ]
    },
    {
      "cell_type": "markdown",
      "metadata": {
        "id": "Yy24sL0bUtpF"
      },
      "source": [
        "---\n",
        "### Exercise 2 - print the current year\n",
        "\n",
        "Write a function that will get and print the current year.  "
      ]
    },
    {
      "cell_type": "code",
      "metadata": {
        "id": "YqlQqPIqUtyr",
        "outputId": "2adcc43a-aed1-4347-dba2-1872d44ebecb",
        "colab": {
          "base_uri": "https://localhost:8080/"
        }
      },
      "source": [
        "from datetime import datetime\n",
        "\n",
        "def get_current_year():\n",
        "  # add your code to get the current date and time below here\n",
        "  now = datetime.now()\n",
        "  year = now.year\n",
        "  print(year)\n",
        "\n",
        "get_current_year()"
      ],
      "execution_count": 3,
      "outputs": [
        {
          "output_type": "stream",
          "name": "stdout",
          "text": [
            "2024\n"
          ]
        }
      ]
    },
    {
      "cell_type": "markdown",
      "metadata": {
        "id": "FzSVCaJKV1O1"
      },
      "source": [
        "---\n",
        "### Exercise 3 - print the current day of the week\n",
        "\n",
        "Write a function that will get and print the current day of the week.  "
      ]
    },
    {
      "cell_type": "code",
      "metadata": {
        "id": "OP4ZIXBWV1Yj",
        "outputId": "3af8d4d2-69a3-4327-c3d4-fcd80784d77f",
        "colab": {
          "base_uri": "https://localhost:8080/"
        }
      },
      "source": [
        "from datetime import datetime\n",
        "\n",
        "def get_current_dayofweek():\n",
        "  # add your code to get the current date and time below here\n",
        "  now = datetime.now()\n",
        "  day = now.strftime(\"%A\")\n",
        "  print(day)\n",
        "\n",
        "get_current_dayofweek()"
      ],
      "execution_count": 5,
      "outputs": [
        {
          "output_type": "stream",
          "name": "stdout",
          "text": [
            "Wednesday\n"
          ]
        }
      ]
    },
    {
      "cell_type": "markdown",
      "metadata": {
        "id": "a8euCtdmWIDE"
      },
      "source": [
        "---\n",
        "### Exercise 4 - create a new date\n",
        "\n",
        "Write a function that will:\n",
        "\n",
        "*  create 3 variables: day, month, year\n",
        "*  assign each variable with a number that is valid for that variable (e.g. month can only be between 1 and 12)\n",
        "*  create a date using these variables\n",
        "*  print the date\n",
        "\n",
        "**Expected output**:  \n",
        "If day is 22, month is 4 and year is 2023 then the output will look like this:  \n",
        "`2023-04-22 00:00:00`\n",
        "\n"
      ]
    },
    {
      "cell_type": "code",
      "metadata": {
        "id": "FbOFnTwnWILN",
        "outputId": "0a051042-9612-4861-ab69-191efe4116b9",
        "colab": {
          "base_uri": "https://localhost:8080/"
        }
      },
      "source": [
        "def create_newdate():\n",
        "  day = 22\n",
        "  month = 4\n",
        "  year = 2023\n",
        "  date = datetime(year, month, day)\n",
        "  print(date)\n",
        "\n",
        "create_newdate()"
      ],
      "execution_count": 7,
      "outputs": [
        {
          "output_type": "stream",
          "name": "stdout",
          "text": [
            "2023-04-22 00:00:00\n"
          ]
        }
      ]
    },
    {
      "cell_type": "markdown",
      "metadata": {
        "id": "f5SKVuE0WfcE"
      },
      "source": [
        "---\n",
        "### Exercise 5 - create a date and time and use strftime() to print\n",
        "\n",
        "Write a function that ask the user to enter a day, month, year, hour, minute, second (6 numbers) and will the :  \n",
        "*   create a new datetime with that date and time  \n",
        "*   print the date and time as shown in the expected output below.  \n",
        "\n",
        "**Note:** You will need to join some strings together to create the message. Each part of the date will need to be converted to a string.  Do this with the datetime function strftime:  \n",
        "\n",
        " e.g. day.strftime(%d), month.strftime(%m), year.strftime(%Y), etc as you can only join strings with strings.  To find the codes for hour, minute and second visit [strftime.org](https://strftime.org/)\n",
        "\n",
        "**Test inputs**:  \n",
        "24  \n",
        "7  \n",
        "2024  \n",
        "17  \n",
        "30  \n",
        "0\n",
        "\n",
        "**Expected output**\n",
        "The set date is 24/7/2024 and time is 17.30.0"
      ]
    },
    {
      "cell_type": "code",
      "metadata": {
        "id": "gclt-f9-XfdG"
      },
      "source": [],
      "execution_count": null,
      "outputs": []
    },
    {
      "cell_type": "markdown",
      "metadata": {
        "id": "js7fy2HWXfm2"
      },
      "source": [
        "---\n",
        "### Exercise 6 - show the date and time in different formats\n",
        "\n",
        "Write a function that will create the same date as before but will then print it in the following 2 formats (using strftime again)\n",
        "\n",
        "Wed 24 July 2024 at 1730 hours  \n",
        "30 minutes past 5pm on July 24 2024\n",
        "\n",
        "*Hint: use 12 hour clock as decimal and remember that you can convert a string to lower case for pm.*"
      ]
    },
    {
      "cell_type": "code",
      "metadata": {
        "id": "KY1jtf3lX_ps"
      },
      "source": [],
      "execution_count": null,
      "outputs": []
    },
    {
      "cell_type": "markdown",
      "metadata": {
        "id": "9BuRDi08YAO0"
      },
      "source": [
        "---\n",
        "### Exercise 7 - display parts of date/time\n",
        "\n",
        "Write a function that will take a date and print from it the following:  \n",
        "*  given date and time  \n",
        "*  year (in full)\n",
        "*  month (as a number)\n",
        "*  month name\n",
        "*  week number of the year  \n",
        "*  weekday of the week (as a number)  \n",
        "*  day of year  \n",
        "*  day of the month  \n",
        "*  day of week (as a short name)  \n"
      ]
    },
    {
      "cell_type": "code",
      "metadata": {
        "id": "zl-37Ez9ahym"
      },
      "source": [],
      "execution_count": null,
      "outputs": []
    },
    {
      "cell_type": "markdown",
      "source": [
        "---\n",
        "# strptime\n",
        "The **strptime(**) function will help you to create a new datetime object from a string, rather than supplying the year, month, day, hour, etc as separate numbers.\n",
        "\n",
        "In data processing, dates often appear as strings and so being able to convert them into datetime data easily is very useful.\n",
        "\n",
        "`strptime()` uses the same formatting characters as `strftime()` so you can just supply date in text format and tell it what the format is.  \n",
        "\n",
        "e.g.  \n",
        "```\n",
        "date_string = \"11-24-1990\"\n",
        "new_date = datetime.strptime(date_string, \"%m-%d-%Y\")\n",
        "```\n",
        "If you only want to print the date you can use datetime.date()."
      ],
      "metadata": {
        "id": "6zhQ3j6OkIi9"
      }
    },
    {
      "cell_type": "markdown",
      "source": [
        "---\n",
        "### Exercise 8 - create a datetime from a string\n",
        "\n",
        "Write a function that will:  \n",
        "* create a string to hold a date in the format yyyy:dd:mm\n",
        "* print just the date\n",
        "* print date in the format as shown below:  \n",
        "`day name-day number-short month-year`  \n",
        "\n",
        "Test input:  \n",
        "2023:12:2\n",
        "\n",
        "Expected output:\n",
        "  \n",
        "Sun 12 Feb 2023"
      ],
      "metadata": {
        "id": "Ww3txeHOh7Rm"
      }
    },
    {
      "cell_type": "code",
      "source": [],
      "metadata": {
        "id": "J0pX60wpiVrM"
      },
      "execution_count": null,
      "outputs": []
    },
    {
      "cell_type": "markdown",
      "metadata": {
        "id": "_rpTIoSDaiBj"
      },
      "source": [
        "---\n",
        "### Exercise 9 - next 6 days - a challenge\n",
        "\n",
        "**Scenario**\n",
        "\n",
        "The timedelta function is part of the datetime library and will allow you to create a value to represent a number of days (or months, etc) so that you can create a date in the future (like an expiry date).\n",
        "\n",
        "Watch this [video](https://vimeo.com/989587133/fccf9cb783?share=copy) to see timedelta in use\n",
        "\n",
        "**Your task**\n",
        "\n",
        "Write a function that will take a date and generate the dates of the following 6 days.  It should print each of the 6 days in this format:  \n",
        "\n",
        "e.g.  \n",
        "Friday, May 24 2024  \n",
        "Saturday, May 25 2024  \n",
        "Sunday, May 26 2024\n",
        "Monday, May 27 2024\n",
        "Tuesday, May\n",
        "\n",
        "*Hint:  to generate the days, use the function datetime.timedelta(), there is a good example of its use [here](https://www.geeksforgeeks.org/python-datetime-timedelta-function/) *\n",
        "\n",
        "DON'T FORGET TO IMPORT timedelta as well as datetime"
      ]
    },
    {
      "cell_type": "code",
      "metadata": {
        "id": "1d-oXqLLb0vX",
        "colab": {
          "base_uri": "https://localhost:8080/"
        },
        "outputId": "5d67b90a-afb7-4854-88c8-c7e87dfc10a3"
      },
      "source": [
        "from datetime import datetime, timedelta\n",
        "\n",
        "date = datetime(2024, 5, 23)\n",
        "day1 = date + timedelta(days=1)\n",
        "print(day1.strftime(\"%A, %B %d %Y\"))"
      ],
      "execution_count": null,
      "outputs": [
        {
          "output_type": "stream",
          "name": "stdout",
          "text": [
            "Friday, May 24 2024\n"
          ]
        }
      ]
    },
    {
      "cell_type": "markdown",
      "metadata": {
        "id": "22Rhwx2Sb1Ey"
      },
      "source": [
        "---\n",
        "### Optional extra practice\n",
        "\n",
        "There are some similar and some more challenging exercises [here](https://www.w3resource.com/python-exercises/date-time-exercise/) if you would like to practice more. The site has its own editor."
      ]
    },
    {
      "cell_type": "markdown",
      "source": [
        "---\n",
        "# Takeaways\n",
        "\n",
        "* the datetime library has a number of functions for working with dates\n",
        "* you have used the `datetime` function and `timedelta` function\n",
        "* the `strftime()` function helps you to format parts of the date and time into strings to help format the data into text and the `strptime()` function helps you to create dates with differently organised date strings\n",
        "* changing the format of dates is a common data cleaning task"
      ],
      "metadata": {
        "id": "ebyScSG_hKFV"
      }
    },
    {
      "cell_type": "markdown",
      "source": [
        "# Your thoughts on what you have learnt  \n",
        "\n",
        "Please add some comments in the box below to reflect on what you have learnt through completing this worksheet, and any problems you encountered while doing so.\n"
      ],
      "metadata": {
        "id": "zXCWqmiOpIME"
      }
    },
    {
      "cell_type": "markdown",
      "source": [],
      "metadata": {
        "id": "oDwUX3jVpTIr"
      }
    }
  ]
}